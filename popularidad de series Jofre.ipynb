{
 "cells": [
  {
   "cell_type": "markdown",
   "metadata": {},
   "source": [
    "# ANÁLISIS POPULARIDAD TEMPORAL DE LOS SHOW\n",
    "\n",
    "### Autor:Pedro Jofre\n",
    "### Curso:Data Science II: Machine Learning para la Ciencia de Datos\n",
    "### comision: 61190"
   ]
  },
  {
   "cell_type": "markdown",
   "metadata": {},
   "source": [
    "## The Movie Database\n",
    "\n",
    "El conjunto de datos proporciona información crucial para analizar las tendencias y predecir el éxito de películas y shows de televisión utilizando información de The Movie Database (TMDB). La base de datos esta compuesta por 29 variables y mas de 150000 registros, los cuales incluyen atributos interesantes de analisis como el genero, popularidad y fecha de emision, permitiendo la segmentación y análisis detallado. Esta cantidad de datos permite una comprensión profunda y detallada de las preferencias y comportamientos de la audiencia.\n",
    "\n",
    "Los análisis derivados de este dataset presentan una oportunidad valiosa para la industria del entretenimiento, permitiendo la identificación de factores que impulsan la popularidad, la evaluación de la efectividad de estrategias de lanzamiento y marketing, y la formulación de recomendaciones personalizadas para los usuarios, por mencionar algunos.\n",
    "\n",
    "Este conjunto de datos es una herramienta invaluable para investigadores y profesionales de la industria del entretenimiento, contribuyendo a la mejora de la toma de decisiones estratégicas, la personalización de la experiencia del usuario y el incremento de la satisfacción y retención de la audiencia. \n"
   ]
  },
  {
   "cell_type": "markdown",
   "metadata": {},
   "source": [
    "source:https://www.kaggle.com/datasets/asaniczka/full-tmdb-tv-shows-dataset-2023-150k-shows?resource=download.\n",
    "\n"
   ]
  },
  {
   "cell_type": "markdown",
   "metadata": {},
   "source": [
    "## Hipotesis: \n",
    "En primer lugar, se espera analizar cómo ha evolucionado la cantidad de programas a lo largo de los años. Se anticipa encontrar un aumento constante en la cantidad de estrenos debido al avance tecnológico y la expansión del acceso a plataformas de distribución de contenido. Además, se espera observar un cambio notable en el período de la pandemia de COVID-19, ya que este evento probablemente generó un efecto significativo en el comportamiento de las personas, afectando tanto la producción como el consumo de entretenimiento. Ademas de analizar como varia segun la estacion del año en que se estrena.\n",
    "Por ultimo se espera encontrar cuales son las variables con mayor relacion al momento de determinar la popularidad de un programa."
   ]
  },
  {
   "cell_type": "markdown",
   "metadata": {},
   "source": [
    "En primer lugar se carga las librerias necesarias y la base previamente descargada."
   ]
  },
  {
   "cell_type": "code",
   "execution_count": 22,
   "metadata": {},
   "outputs": [],
   "source": [
    "import pandas as pd\n",
    "import numpy as np\n",
    "import matplotlib.pyplot as plt\n",
    "from matplotlib.dates import MonthLocator, DateFormatter, AutoDateLocator,AutoDateFormatter,YearLocator\n",
    "import seaborn as sns\n"
   ]
  },
  {
   "cell_type": "code",
   "execution_count": 23,
   "metadata": {},
   "outputs": [
    {
     "data": {
      "text/html": [
       "<div>\n",
       "<style scoped>\n",
       "    .dataframe tbody tr th:only-of-type {\n",
       "        vertical-align: middle;\n",
       "    }\n",
       "\n",
       "    .dataframe tbody tr th {\n",
       "        vertical-align: top;\n",
       "    }\n",
       "\n",
       "    .dataframe thead th {\n",
       "        text-align: right;\n",
       "    }\n",
       "</style>\n",
       "<table border=\"1\" class=\"dataframe\">\n",
       "  <thead>\n",
       "    <tr style=\"text-align: right;\">\n",
       "      <th></th>\n",
       "      <th>id</th>\n",
       "      <th>name</th>\n",
       "      <th>number_of_seasons</th>\n",
       "      <th>number_of_episodes</th>\n",
       "      <th>original_language</th>\n",
       "      <th>vote_count</th>\n",
       "      <th>vote_average</th>\n",
       "      <th>overview</th>\n",
       "      <th>adult</th>\n",
       "      <th>backdrop_path</th>\n",
       "      <th>...</th>\n",
       "      <th>tagline</th>\n",
       "      <th>genres</th>\n",
       "      <th>created_by</th>\n",
       "      <th>languages</th>\n",
       "      <th>networks</th>\n",
       "      <th>origin_country</th>\n",
       "      <th>spoken_languages</th>\n",
       "      <th>production_companies</th>\n",
       "      <th>production_countries</th>\n",
       "      <th>episode_run_time</th>\n",
       "    </tr>\n",
       "  </thead>\n",
       "  <tbody>\n",
       "    <tr>\n",
       "      <th>0</th>\n",
       "      <td>1399</td>\n",
       "      <td>Game of Thrones</td>\n",
       "      <td>8</td>\n",
       "      <td>73</td>\n",
       "      <td>en</td>\n",
       "      <td>21857</td>\n",
       "      <td>8.442</td>\n",
       "      <td>Seven noble families fight for control of the ...</td>\n",
       "      <td>False</td>\n",
       "      <td>/2OMB0ynKlyIenMJWI2Dy9IWT4c.jpg</td>\n",
       "      <td>...</td>\n",
       "      <td>Winter Is Coming</td>\n",
       "      <td>Sci-Fi &amp; Fantasy, Drama, Action &amp; Adventure</td>\n",
       "      <td>David Benioff, D.B. Weiss</td>\n",
       "      <td>en</td>\n",
       "      <td>HBO</td>\n",
       "      <td>US</td>\n",
       "      <td>English</td>\n",
       "      <td>Revolution Sun Studios, Television 360, Genera...</td>\n",
       "      <td>United Kingdom, United States of America</td>\n",
       "      <td>0</td>\n",
       "    </tr>\n",
       "    <tr>\n",
       "      <th>1</th>\n",
       "      <td>71446</td>\n",
       "      <td>Money Heist</td>\n",
       "      <td>3</td>\n",
       "      <td>41</td>\n",
       "      <td>es</td>\n",
       "      <td>17836</td>\n",
       "      <td>8.257</td>\n",
       "      <td>To carry out the biggest heist in history, a m...</td>\n",
       "      <td>False</td>\n",
       "      <td>/gFZriCkpJYsApPZEF3jhxL4yLzG.jpg</td>\n",
       "      <td>...</td>\n",
       "      <td>The perfect robbery.</td>\n",
       "      <td>Crime, Drama</td>\n",
       "      <td>Álex Pina</td>\n",
       "      <td>es</td>\n",
       "      <td>Netflix, Antena 3</td>\n",
       "      <td>ES</td>\n",
       "      <td>Español</td>\n",
       "      <td>Vancouver Media</td>\n",
       "      <td>Spain</td>\n",
       "      <td>70</td>\n",
       "    </tr>\n",
       "    <tr>\n",
       "      <th>2</th>\n",
       "      <td>66732</td>\n",
       "      <td>Stranger Things</td>\n",
       "      <td>4</td>\n",
       "      <td>34</td>\n",
       "      <td>en</td>\n",
       "      <td>16161</td>\n",
       "      <td>8.624</td>\n",
       "      <td>When a young boy vanishes, a small town uncove...</td>\n",
       "      <td>False</td>\n",
       "      <td>/2MaumbgBlW1NoPo3ZJO38A6v7OS.jpg</td>\n",
       "      <td>...</td>\n",
       "      <td>Every ending has a beginning.</td>\n",
       "      <td>Drama, Sci-Fi &amp; Fantasy, Mystery</td>\n",
       "      <td>Matt Duffer, Ross Duffer</td>\n",
       "      <td>en</td>\n",
       "      <td>Netflix</td>\n",
       "      <td>US</td>\n",
       "      <td>English</td>\n",
       "      <td>21 Laps Entertainment, Monkey Massacre Product...</td>\n",
       "      <td>United States of America</td>\n",
       "      <td>0</td>\n",
       "    </tr>\n",
       "    <tr>\n",
       "      <th>3</th>\n",
       "      <td>1402</td>\n",
       "      <td>The Walking Dead</td>\n",
       "      <td>11</td>\n",
       "      <td>177</td>\n",
       "      <td>en</td>\n",
       "      <td>15432</td>\n",
       "      <td>8.121</td>\n",
       "      <td>Sheriff's deputy Rick Grimes awakens from a co...</td>\n",
       "      <td>False</td>\n",
       "      <td>/x4salpjB11umlUOltfNvSSrjSXm.jpg</td>\n",
       "      <td>...</td>\n",
       "      <td>Fight the dead. Fear the living.</td>\n",
       "      <td>Action &amp; Adventure, Drama, Sci-Fi &amp; Fantasy</td>\n",
       "      <td>Frank Darabont</td>\n",
       "      <td>en</td>\n",
       "      <td>AMC</td>\n",
       "      <td>US</td>\n",
       "      <td>English</td>\n",
       "      <td>AMC Studios, Circle of Confusion, Valhalla Mot...</td>\n",
       "      <td>United States of America</td>\n",
       "      <td>42</td>\n",
       "    </tr>\n",
       "    <tr>\n",
       "      <th>4</th>\n",
       "      <td>63174</td>\n",
       "      <td>Lucifer</td>\n",
       "      <td>6</td>\n",
       "      <td>93</td>\n",
       "      <td>en</td>\n",
       "      <td>13870</td>\n",
       "      <td>8.486</td>\n",
       "      <td>Bored and unhappy as the Lord of Hell, Lucifer...</td>\n",
       "      <td>False</td>\n",
       "      <td>/aDBRtunw49UF4XmqfyNuD9nlYIu.jpg</td>\n",
       "      <td>...</td>\n",
       "      <td>It's good to be bad.</td>\n",
       "      <td>Crime, Sci-Fi &amp; Fantasy</td>\n",
       "      <td>Tom Kapinos</td>\n",
       "      <td>en</td>\n",
       "      <td>FOX, Netflix</td>\n",
       "      <td>US</td>\n",
       "      <td>English</td>\n",
       "      <td>Warner Bros. Television, DC Entertainment, Jer...</td>\n",
       "      <td>United States of America</td>\n",
       "      <td>45</td>\n",
       "    </tr>\n",
       "  </tbody>\n",
       "</table>\n",
       "<p>5 rows × 29 columns</p>\n",
       "</div>"
      ],
      "text/plain": [
       "      id              name  number_of_seasons  number_of_episodes  \\\n",
       "0   1399   Game of Thrones                  8                  73   \n",
       "1  71446       Money Heist                  3                  41   \n",
       "2  66732   Stranger Things                  4                  34   \n",
       "3   1402  The Walking Dead                 11                 177   \n",
       "4  63174           Lucifer                  6                  93   \n",
       "\n",
       "  original_language  vote_count  vote_average  \\\n",
       "0                en       21857         8.442   \n",
       "1                es       17836         8.257   \n",
       "2                en       16161         8.624   \n",
       "3                en       15432         8.121   \n",
       "4                en       13870         8.486   \n",
       "\n",
       "                                            overview  adult  \\\n",
       "0  Seven noble families fight for control of the ...  False   \n",
       "1  To carry out the biggest heist in history, a m...  False   \n",
       "2  When a young boy vanishes, a small town uncove...  False   \n",
       "3  Sheriff's deputy Rick Grimes awakens from a co...  False   \n",
       "4  Bored and unhappy as the Lord of Hell, Lucifer...  False   \n",
       "\n",
       "                      backdrop_path  ...                           tagline  \\\n",
       "0   /2OMB0ynKlyIenMJWI2Dy9IWT4c.jpg  ...                  Winter Is Coming   \n",
       "1  /gFZriCkpJYsApPZEF3jhxL4yLzG.jpg  ...              The perfect robbery.   \n",
       "2  /2MaumbgBlW1NoPo3ZJO38A6v7OS.jpg  ...     Every ending has a beginning.   \n",
       "3  /x4salpjB11umlUOltfNvSSrjSXm.jpg  ...  Fight the dead. Fear the living.   \n",
       "4  /aDBRtunw49UF4XmqfyNuD9nlYIu.jpg  ...              It's good to be bad.   \n",
       "\n",
       "                                        genres                 created_by  \\\n",
       "0  Sci-Fi & Fantasy, Drama, Action & Adventure  David Benioff, D.B. Weiss   \n",
       "1                                 Crime, Drama                  Álex Pina   \n",
       "2             Drama, Sci-Fi & Fantasy, Mystery   Matt Duffer, Ross Duffer   \n",
       "3  Action & Adventure, Drama, Sci-Fi & Fantasy             Frank Darabont   \n",
       "4                      Crime, Sci-Fi & Fantasy                Tom Kapinos   \n",
       "\n",
       "   languages           networks  origin_country spoken_languages  \\\n",
       "0         en                HBO              US          English   \n",
       "1         es  Netflix, Antena 3              ES          Español   \n",
       "2         en            Netflix              US          English   \n",
       "3         en                AMC              US          English   \n",
       "4         en       FOX, Netflix              US          English   \n",
       "\n",
       "                                production_companies  \\\n",
       "0  Revolution Sun Studios, Television 360, Genera...   \n",
       "1                                    Vancouver Media   \n",
       "2  21 Laps Entertainment, Monkey Massacre Product...   \n",
       "3  AMC Studios, Circle of Confusion, Valhalla Mot...   \n",
       "4  Warner Bros. Television, DC Entertainment, Jer...   \n",
       "\n",
       "                       production_countries episode_run_time  \n",
       "0  United Kingdom, United States of America                0  \n",
       "1                                     Spain               70  \n",
       "2                  United States of America                0  \n",
       "3                  United States of America               42  \n",
       "4                  United States of America               45  \n",
       "\n",
       "[5 rows x 29 columns]"
      ]
     },
     "execution_count": 23,
     "metadata": {},
     "output_type": "execute_result"
    }
   ],
   "source": [
    "table= pd.read_csv('TMDB_tv_dataset_v3.csv')\n",
    "table.head()"
   ]
  },
  {
   "cell_type": "code",
   "execution_count": 24,
   "metadata": {},
   "outputs": [
    {
     "data": {
      "text/plain": [
       "(168639, 29)"
      ]
     },
     "execution_count": 24,
     "metadata": {},
     "output_type": "execute_result"
    }
   ],
   "source": [
    "table.shape"
   ]
  },
  {
   "cell_type": "code",
   "execution_count": 25,
   "metadata": {},
   "outputs": [
    {
     "name": "stdout",
     "output_type": "stream",
     "text": [
      "<class 'pandas.core.frame.DataFrame'>\n",
      "RangeIndex: 168639 entries, 0 to 168638\n",
      "Data columns (total 29 columns):\n",
      " #   Column                Non-Null Count   Dtype  \n",
      "---  ------                --------------   -----  \n",
      " 0   id                    168639 non-null  int64  \n",
      " 1   name                  168634 non-null  object \n",
      " 2   number_of_seasons     168639 non-null  int64  \n",
      " 3   number_of_episodes    168639 non-null  int64  \n",
      " 4   original_language     168639 non-null  object \n",
      " 5   vote_count            168639 non-null  int64  \n",
      " 6   vote_average          168639 non-null  float64\n",
      " 7   overview              93333 non-null   object \n",
      " 8   adult                 168639 non-null  bool   \n",
      " 9   backdrop_path         77780 non-null   object \n",
      " 10  first_air_date        136903 non-null  object \n",
      " 11  last_air_date         138735 non-null  object \n",
      " 12  homepage              50998 non-null   object \n",
      " 13  in_production         168639 non-null  bool   \n",
      " 14  original_name         168634 non-null  object \n",
      " 15  popularity            168639 non-null  float64\n",
      " 16  poster_path           108737 non-null  object \n",
      " 17  type                  168639 non-null  object \n",
      " 18  status                168639 non-null  object \n",
      " 19  tagline               5330 non-null    object \n",
      " 20  genres                99713 non-null   object \n",
      " 21  created_by            36496 non-null   object \n",
      " 22  languages             110050 non-null  object \n",
      " 23  networks              97589 non-null   object \n",
      " 24  origin_country        137609 non-null  object \n",
      " 25  spoken_languages      109280 non-null  object \n",
      " 26  production_companies  59342 non-null   object \n",
      " 27  production_countries  77511 non-null   object \n",
      " 28  episode_run_time      168639 non-null  int64  \n",
      "dtypes: bool(2), float64(2), int64(5), object(20)\n",
      "memory usage: 35.1+ MB\n"
     ]
    }
   ],
   "source": [
    "table.info()"
   ]
  },
  {
   "cell_type": "markdown",
   "metadata": {},
   "source": [
    "A continuacion revisamos los faltantes de la base"
   ]
  },
  {
   "cell_type": "code",
   "execution_count": 26,
   "metadata": {},
   "outputs": [
    {
     "data": {
      "text/plain": [
       "<Axes: >"
      ]
     },
     "execution_count": 26,
     "metadata": {},
     "output_type": "execute_result"
    },
    {
     "data": {
      "image/png": "[encoded data removed]",
      "text/plain": [
       "<Figure size 640x480 with 1 Axes>"
      ]
     },
     "metadata": {},
     "output_type": "display_data"
    }
   ],
   "source": [
    "sns.heatmap(table.isnull(),cmap='viridis',cbar=False)"
   ]
  },
  {
   "cell_type": "code",
   "execution_count": 27,
   "metadata": {},
   "outputs": [
    {
     "data": {
      "text/plain": [
       "1190189"
      ]
     },
     "execution_count": 27,
     "metadata": {},
     "output_type": "execute_result"
    }
   ],
   "source": [
    "(table.isnull().sum()).sum()"
   ]
  },
  {
   "cell_type": "markdown",
   "metadata": {},
   "source": [
    "Como se puede observar los datos poseen una gran cantidad de datos faltantes. Por lo que en primer lugar se una limpieza de datos, a continuacion se dara un resumen de los puntos mas importantes, se puede observar todos los pasos tomados en la transformacion en el notebook \"data_wrapping Jofre.ipynb\".<br> Para facilitar la visualizacion de la data es necesario renombrar las variables a traves de la funcion rename. "
   ]
  },
  {
   "cell_type": "code",
   "execution_count": 28,
   "metadata": {},
   "outputs": [],
   "source": [
    "nombres_columnas= {'id':\"id\",\n",
    "'name':\"Nombre_Serie\",\n",
    "'number_of_seasons':\"#_Temporadas\",\n",
    "'number_of_episodes':\"#_Episodios\",\n",
    "'original_language':\"Idioma_original\",\n",
    "'vote_count':\"Votos_Totales\",\n",
    "'vote_average':\"Voto_promedio\",\n",
    "'overview':\"Resumen\",\n",
    "'adult':\"Categoria_Adulto\",\n",
    "'backdrop_path':\"url_Imagen\",\n",
    "'first_air_date':\"Fecha_Inicio\",\n",
    "'last_air_date':\"Fecha_Fin\",\n",
    "'homepage':\"Pagina\",\n",
    "'in_production':\"En_Produccion\",\n",
    "'original_name':\"Nombre_Original\",\n",
    "'popularity':\"Popularidad\",\n",
    "'poster_path':\"url_Poster\",\n",
    "'type':\"Tipo_Show\",\n",
    "'status':\"Status\",\n",
    "'tagline':\"Frase\",\n",
    "'genres':\"Generos\",\n",
    "'created_by':\"Creador\",\n",
    "'languages':\"Idiomas\",\n",
    "'networks':\"Canales\",\n",
    "'origin_country':\"Pais_Origen\",\n",
    "'spoken_languages':\"Idiomas_hablados\",\n",
    "'production_companies':\"Companias_Produccion\",\n",
    "'production_countries':\"Paises_Produccion\",\n",
    "'episode_run_time':\"Duracion_episodio\"}\n",
    "\n",
    "table.rename(columns=nombres_columnas,inplace=True)"
   ]
  },
  {
   "cell_type": "markdown",
   "metadata": {},
   "source": [
    "- En primer lugar se eliminaran los 5 registros que no poseen nombre, ya que corresponden a un porcentaje menor del 0.01% \n",
    "- Se eliminan los campos que no entregan mayor informacion relevante para el analisis propuesto como:Resumen,url_Imagen,Pagina,url_Poster,Frase\n",
    "- Se elimina las filas que no poseen fecha de inicio o fin \n",
    "- Se rellena la informacion faltante en los campos 'Generos','Creador','Idiomas','Canales','Pais_Origen','Idiomas_hablados','Companias_Produccion','Paises_Produccion' como 'sin informacion'"
   ]
  },
  {
   "cell_type": "code",
   "execution_count": 29,
   "metadata": {},
   "outputs": [],
   "source": [
    "table=table.dropna(subset=['Nombre_Serie'])\n",
    "table=table.drop(columns=['Resumen','url_Imagen','url_Poster','Frase','Pagina'])\n",
    "table=table.dropna(subset=['Fecha_Inicio','Fecha_Fin' ])\n",
    "columnas= ['Generos','Creador','Idiomas','Canales','Pais_Origen','Idiomas_hablados','Companias_Produccion','Paises_Produccion']\n",
    "for c in columnas:\n",
    "    table[c]=table[c].fillna('sin informacion')"
   ]
  },
  {
   "cell_type": "code",
   "execution_count": 31,
   "metadata": {},
   "outputs": [
    {
     "data": {
      "text/plain": [
       "(135806, 24)"
      ]
     },
     "execution_count": 31,
     "metadata": {},
     "output_type": "execute_result"
    }
   ],
   "source": [
    "table.shape"
   ]
  },
  {
   "cell_type": "markdown",
   "metadata": {},
   "source": [
    "Se puede observar que luego de los cambios se mantiene sobre un 80% de los datos originales"
   ]
  },
  {
   "cell_type": "markdown",
   "metadata": {},
   "source": [
    "A continuacion se realiza el proceso de enriquecimiento, donde generaremos nuevos campos a partir de la informacion recolectada para la calidad de nuestra base, al igual que el tratamiento de nulos si quiere revisar en detalles todos los pasos los puede observar en el notebook \"data_wrapping Jofre.ipynb\". Para dar un resumen los procesos realizados fueron los siguientes:<br>\n",
    "1- para cada columna que consiste en un array de string se crea un nuevo campo que muestre cuantos datos existen en la columna, como por ejemplo generos.<br>\n",
    "2- se crea nuevas columnas relacionada a la fecha, como año, mes y estacion.<br>\n",
    "3- Se crean bases de datos auxiliares de los campos trabajados en el punto 1 utilizando el id del show como llave foreana. <br>\n",
    "4- se eliminan las columnas del punto 1 y se guarda la nueva base base transformada."
   ]
  },
  {
   "cell_type": "markdown",
   "metadata": {},
   "source": [
    "Los pasos anteriores dan como resultados una base de datos con esquema de estrella, con la tabla de hechos siendo \"TMDB_procesado.csv\" y 8 tablas de dimensiones, las cuales muestran informacion adicional para cada show."
   ]
  },
  {
   "cell_type": "code",
   "execution_count": 32,
   "metadata": {},
   "outputs": [
    {
     "data": {
      "text/html": [
       "<div>\n",
       "<style scoped>\n",
       "    .dataframe tbody tr th:only-of-type {\n",
       "        vertical-align: middle;\n",
       "    }\n",
       "\n",
       "    .dataframe tbody tr th {\n",
       "        vertical-align: top;\n",
       "    }\n",
       "\n",
       "    .dataframe thead th {\n",
       "        text-align: right;\n",
       "    }\n",
       "</style>\n",
       "<table border=\"1\" class=\"dataframe\">\n",
       "  <thead>\n",
       "    <tr style=\"text-align: right;\">\n",
       "      <th></th>\n",
       "      <th>Nombre_Serie</th>\n",
       "      <th>#_Temporadas</th>\n",
       "      <th>#_Episodios</th>\n",
       "      <th>Idioma_original</th>\n",
       "      <th>Votos_Totales</th>\n",
       "      <th>Voto_promedio</th>\n",
       "      <th>Categoria_Adulto</th>\n",
       "      <th>Fecha_Inicio</th>\n",
       "      <th>Fecha_Fin</th>\n",
       "      <th>En_Produccion</th>\n",
       "      <th>...</th>\n",
       "      <th>num_Companias_Produccion</th>\n",
       "      <th>num_Paises_Produccion</th>\n",
       "      <th>Mes_I</th>\n",
       "      <th>estacion_I</th>\n",
       "      <th>estacion_I_n</th>\n",
       "      <th>anho_I</th>\n",
       "      <th>Mes_F</th>\n",
       "      <th>estacion_F</th>\n",
       "      <th>estacion_F_n</th>\n",
       "      <th>anho_F</th>\n",
       "    </tr>\n",
       "  </thead>\n",
       "  <tbody>\n",
       "    <tr>\n",
       "      <th>0</th>\n",
       "      <td>Game of Thrones</td>\n",
       "      <td>8</td>\n",
       "      <td>73</td>\n",
       "      <td>en</td>\n",
       "      <td>21857</td>\n",
       "      <td>8.442</td>\n",
       "      <td>False</td>\n",
       "      <td>2011-04-17</td>\n",
       "      <td>2019-05-19</td>\n",
       "      <td>False</td>\n",
       "      <td>...</td>\n",
       "      <td>4</td>\n",
       "      <td>2</td>\n",
       "      <td>4</td>\n",
       "      <td>0</td>\n",
       "      <td>primavera</td>\n",
       "      <td>2011</td>\n",
       "      <td>5</td>\n",
       "      <td>1</td>\n",
       "      <td>verano</td>\n",
       "      <td>2019</td>\n",
       "    </tr>\n",
       "    <tr>\n",
       "      <th>1</th>\n",
       "      <td>Money Heist</td>\n",
       "      <td>3</td>\n",
       "      <td>41</td>\n",
       "      <td>es</td>\n",
       "      <td>17836</td>\n",
       "      <td>8.257</td>\n",
       "      <td>False</td>\n",
       "      <td>2017-05-02</td>\n",
       "      <td>2021-12-03</td>\n",
       "      <td>False</td>\n",
       "      <td>...</td>\n",
       "      <td>1</td>\n",
       "      <td>1</td>\n",
       "      <td>5</td>\n",
       "      <td>1</td>\n",
       "      <td>verano</td>\n",
       "      <td>2017</td>\n",
       "      <td>12</td>\n",
       "      <td>0</td>\n",
       "      <td>primavera</td>\n",
       "      <td>2021</td>\n",
       "    </tr>\n",
       "    <tr>\n",
       "      <th>2</th>\n",
       "      <td>Stranger Things</td>\n",
       "      <td>4</td>\n",
       "      <td>34</td>\n",
       "      <td>en</td>\n",
       "      <td>16161</td>\n",
       "      <td>8.624</td>\n",
       "      <td>False</td>\n",
       "      <td>2016-07-15</td>\n",
       "      <td>2022-07-01</td>\n",
       "      <td>True</td>\n",
       "      <td>...</td>\n",
       "      <td>2</td>\n",
       "      <td>1</td>\n",
       "      <td>7</td>\n",
       "      <td>3</td>\n",
       "      <td>invierno</td>\n",
       "      <td>2016</td>\n",
       "      <td>7</td>\n",
       "      <td>3</td>\n",
       "      <td>invierno</td>\n",
       "      <td>2022</td>\n",
       "    </tr>\n",
       "    <tr>\n",
       "      <th>3</th>\n",
       "      <td>The Walking Dead</td>\n",
       "      <td>11</td>\n",
       "      <td>177</td>\n",
       "      <td>en</td>\n",
       "      <td>15432</td>\n",
       "      <td>8.121</td>\n",
       "      <td>False</td>\n",
       "      <td>2010-10-31</td>\n",
       "      <td>2022-11-20</td>\n",
       "      <td>False</td>\n",
       "      <td>...</td>\n",
       "      <td>6</td>\n",
       "      <td>1</td>\n",
       "      <td>10</td>\n",
       "      <td>2</td>\n",
       "      <td>otoño</td>\n",
       "      <td>2010</td>\n",
       "      <td>11</td>\n",
       "      <td>3</td>\n",
       "      <td>invierno</td>\n",
       "      <td>2022</td>\n",
       "    </tr>\n",
       "    <tr>\n",
       "      <th>4</th>\n",
       "      <td>Lucifer</td>\n",
       "      <td>6</td>\n",
       "      <td>93</td>\n",
       "      <td>en</td>\n",
       "      <td>13870</td>\n",
       "      <td>8.486</td>\n",
       "      <td>False</td>\n",
       "      <td>2016-01-25</td>\n",
       "      <td>2021-09-10</td>\n",
       "      <td>False</td>\n",
       "      <td>...</td>\n",
       "      <td>4</td>\n",
       "      <td>1</td>\n",
       "      <td>1</td>\n",
       "      <td>1</td>\n",
       "      <td>verano</td>\n",
       "      <td>2016</td>\n",
       "      <td>9</td>\n",
       "      <td>1</td>\n",
       "      <td>verano</td>\n",
       "      <td>2021</td>\n",
       "    </tr>\n",
       "  </tbody>\n",
       "</table>\n",
       "<p>5 rows × 39 columns</p>\n",
       "</div>"
      ],
      "text/plain": [
       "       Nombre_Serie  #_Temporadas  #_Episodios Idioma_original  Votos_Totales  \\\n",
       "0   Game of Thrones             8           73              en          21857   \n",
       "1       Money Heist             3           41              es          17836   \n",
       "2   Stranger Things             4           34              en          16161   \n",
       "3  The Walking Dead            11          177              en          15432   \n",
       "4           Lucifer             6           93              en          13870   \n",
       "\n",
       "   Voto_promedio  Categoria_Adulto Fecha_Inicio   Fecha_Fin  En_Produccion  \\\n",
       "0          8.442             False   2011-04-17  2019-05-19          False   \n",
       "1          8.257             False   2017-05-02  2021-12-03          False   \n",
       "2          8.624             False   2016-07-15  2022-07-01           True   \n",
       "3          8.121             False   2010-10-31  2022-11-20          False   \n",
       "4          8.486             False   2016-01-25  2021-09-10          False   \n",
       "\n",
       "   ... num_Companias_Produccion  num_Paises_Produccion Mes_I estacion_I  \\\n",
       "0  ...                        4                      2     4          0   \n",
       "1  ...                        1                      1     5          1   \n",
       "2  ...                        2                      1     7          3   \n",
       "3  ...                        6                      1    10          2   \n",
       "4  ...                        4                      1     1          1   \n",
       "\n",
       "  estacion_I_n anho_I Mes_F estacion_F estacion_F_n anho_F  \n",
       "0    primavera   2011     5          1       verano   2019  \n",
       "1       verano   2017    12          0    primavera   2021  \n",
       "2     invierno   2016     7          3     invierno   2022  \n",
       "3        otoño   2010    11          3     invierno   2022  \n",
       "4       verano   2016     9          1       verano   2021  \n",
       "\n",
       "[5 rows x 39 columns]"
      ]
     },
     "execution_count": 32,
     "metadata": {},
     "output_type": "execute_result"
    }
   ],
   "source": [
    "tmdb=pd.read_csv('TMDB_procesado.csv')\n",
    "tmdb.head()"
   ]
  }
 ],
 "metadata": {
  "kernelspec": {
   "display_name": "Python 3",
   "language": "python",
   "name": "python3"
  },
  "language_info": {
   "codemirror_mode": {
    "name": "ipython",
    "version": 3
   },
   "file_extension": ".py",
   "mimetype": "text/x-python",
   "name": "python",
   "nbconvert_exporter": "python",
   "pygments_lexer": "ipython3",
   "version": "3.10.6"
  }
 },
 "nbformat": 4,
 "nbformat_minor": 2
}
